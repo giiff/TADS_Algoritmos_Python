{
 "cells": [
  {
   "cell_type": "markdown",
   "metadata": {},
   "source": [
    "## **Algoritmos em Python**\n",
    "\n",
    "### *Ein gutes Gewissen ist ein sanftes Ruhekissen*\n",
    "### *Uma consciência tranquila é um travesseiro macio*\n",
    "\n",
    "Este notebook traz os código trabalhados em aula. \n",
    "Utilizamos aqui Python versão 3.6.13.\n",
    "\n",
    "Divirta-se!"
   ]
  },
  {
   "cell_type": "markdown",
   "metadata": {},
   "source": [
    "## Python Notebooks\n",
    "\n",
    "Python notebooks são ambientes de desenvolvimento que funcionam em um servidor *Web*.\n",
    "Este site é um python notebook.\n",
    "Python Notebooks podem ser criados basicamente de duas maneiras:\n",
    "\n",
    "* online usando a plataforma [Google Colab](https://colab.research.google.com) (indicado para iniciantes).\n",
    "\n",
    "* localmente e sua máquina instalando o Python e os pacotes para Python Notebook (Tutorial usando Anaconda [aqui](https://github.com/giiff/algoritmos_python))"
   ]
  },
  {
   "cell_type": "markdown",
   "metadata": {},
   "source": [
    "## Iniciando com Python"
   ]
  },
  {
   "cell_type": "markdown",
   "metadata": {},
   "source": [
    "### Imprimindo uma mensagem na tela\n",
    "\n",
    "As mensagem são impressas como *strings*, ou seja textos. Portanto precisam ser representadas dentro de aspas duplas ou simples. \n",
    "\n",
    "Em geral aspas simples são mais usadas quando se quer representar um valor constante, mas não há consenso na comunidade de programação. Outro fator que faz com que programadores utilizem aspas duplas para *strings* é o fato de que as aspas simples estão presentes em muitas palavras a serem impressas. Nesse caso é preciso escapar as aspas. Veja os exemplos abaixo:"
   ]
  },
  {
   "cell_type": "code",
   "execution_count": 25,
   "metadata": {},
   "outputs": [
    {
     "name": "stdout",
     "output_type": "stream",
     "text": [
      "Exemplo de mensagem impressa na tela!\n",
      "Exemplo de palavra com aspas simples: caixa d'água\n",
      "Exemplo de palavra com aspas simples: caixa d'água\n"
     ]
    }
   ],
   "source": [
    "print(\"Exemplo de mensagem impressa na tela!\")\n",
    "\n",
    "print(\"Exemplo de palavra com aspas simples: caixa d'água\")\n",
    "\n",
    "print('Exemplo de palavra com aspas simples: caixa d\\'água')"
   ]
  },
  {
   "cell_type": "markdown",
   "metadata": {},
   "source": [
    "### Comentários\n",
    "\n",
    "Para comentar um único trecho de código basta usar o caracter \"#\" na frente do trecho de código a ser comentado.\n",
    "\n",
    "Para comentar múltiplas linhas (bloco), podem ser usados os caracteres \"\"\" no começo e no final do código. Este tipo de comentário é tambem chamado de Docstrings (*documentation strings*). Quando usado para documentar o código pode ser lido pelos geradores de documentação gerando uma formatação paradrão da documentação Python."
   ]
  },
  {
   "cell_type": "code",
   "execution_count": 10,
   "metadata": {},
   "outputs": [
    {
     "data": {
      "text/plain": [
       "'\\nEste é um \\ntrecho com múltiplas linhas\\ncomentado\\n'"
      ]
     },
     "execution_count": 10,
     "metadata": {},
     "output_type": "execute_result"
    }
   ],
   "source": [
    "# Este é um trecho comentado\n",
    "\n",
    "\"\"\"\n",
    "Este é um \n",
    "trecho com múltiplas linhas\n",
    "comentado\n",
    "\"\"\""
   ]
  },
  {
   "cell_type": "markdown",
   "metadata": {},
   "source": [
    "## Variáveis\n",
    "\n",
    "Variáveis identificam um espaço de memória que o programa pode manipular. Cada variável tem um tipo específico que determina seu tamanho em bits.\n",
    "\n",
    "Existem boas práticas e regras para nomear variáveis, sintática e semanticamente.\n",
    "\n",
    "* https://www.python.org/dev/peps/pep-0008/#naming-conventions\n",
    "\n",
    "* http://wiki.python.org.br/GuiaDeEstilo\n",
    "\n",
    "Ao identificar variáveis, use nomes que indiquem claramente seu propósito no programa.\n",
    "\n",
    "Em Python, não é necessário informar o tipo, pois o interpretador obtém essa informação a partir da atribuição inicial de valor."
   ]
  },
  {
   "cell_type": "code",
   "execution_count": 26,
   "metadata": {},
   "outputs": [
    {
     "name": "stdout",
     "output_type": "stream",
     "text": [
      "A idade é igual a 39 anos.\n"
     ]
    }
   ],
   "source": [
    "# Variáveis inteiras:\n",
    "idade = 39\n",
    "contador_1 = 0\n",
    "contador_2 = 0\n",
    "\n",
    "# imprimindo com concatenação (junção) de strings a variáveis\n",
    "print(\"A idade é igual a\", idade, \"anos.\")"
   ]
  },
  {
   "cell_type": "code",
   "execution_count": 19,
   "metadata": {},
   "outputs": [
    {
     "name": "stdout",
     "output_type": "stream",
     "text": [
      "A taxa de aprovação em algoritmos é igual a 0.99\n"
     ]
    }
   ],
   "source": [
    "# Variáveis reais:\n",
    "juros_ao_mes = 1.05\n",
    "taxa_de_aprovacao = 0.99\n",
    "\n",
    "# imprimindo com concatenação de strings a variáveis\n",
    "print(\"A taxa de aprovação em algoritmos é igual a\", taxa_de_aprovacao)"
   ]
  },
  {
   "cell_type": "code",
   "execution_count": 23,
   "metadata": {},
   "outputs": [
    {
     "name": "stdout",
     "output_type": "stream",
     "text": [
      "O e-mail de Alan M. Turing é alan.turing@ifg.edu.br\n"
     ]
    }
   ],
   "source": [
    "# Variáveis simbólicas:\n",
    "sexo = 'M'\n",
    "resposta = 'N'\n",
    "nome = 'Alan M. Turing'\n",
    "email = 'alan.turing@ifg.edu.br'\n",
    "\n",
    "# Imprimindo com variáveis dentro da string; usa-se o f antes da string\n",
    "print(f\"O e-mail de {nome} é {email}\")"
   ]
  },
  {
   "cell_type": "code",
   "execution_count": 27,
   "metadata": {},
   "outputs": [],
   "source": [
    "# Variáveis booleanas\n",
    "domina_a_linguagem = False\n",
    "vai_estudar = True\n",
    "# As variáveis booleanas representam apenas valores verdadeiros (True) ou falsos (False)"
   ]
  },
  {
   "cell_type": "markdown",
   "metadata": {},
   "source": [
    "A informação armazenada em uma variável pode 'mudar', e esta atualização permite que se realize as mais diversas tarefas. Vejamos alguns exemplos:"
   ]
  },
  {
   "cell_type": "code",
   "execution_count": 30,
   "metadata": {},
   "outputs": [
    {
     "name": "stdout",
     "output_type": "stream",
     "text": [
      "John Von Neumann tem 20 anos, seu e-mail é john.neumann@ifg.edu.br e ele paga uma taxa de juros de 0.05.\n",
      "John Von Neumann tem 40 anos, seu e-mail é john.neumann@ifg.edu.br e ele paga uma taxa de juros de 0.06.\n"
     ]
    }
   ],
   "source": [
    "idade = 20\n",
    "juros_ao_mes = 0.05\n",
    "nome = 'John Von Neumann'\n",
    "email = 'john.neumann@ifg.edu.br'\n",
    "\n",
    "print(f\"{nome} tem {idade} anos, seu e-mail é {email} e ele paga uma taxa de juros de {juros_ao_mes}.\")\n",
    "\n",
    "idade = 40\n",
    "juros_ao_mes = 0.06\n",
    "\n",
    "print(f\"{nome} tem {idade} anos, seu e-mail é {email} e ele paga uma taxa de juros de {juros_ao_mes}.\")"
   ]
  },
  {
   "cell_type": "markdown",
   "metadata": {},
   "source": [
    "### Constantes\n",
    "Constantes são valores fixos em um programa. Elas são armazenadas em variáveis especiais cujo conteúdo atribuído inicialmente não se altera ao longo da execução do programa.\n",
    "\n",
    "Em Python não há constantes por decisão de projeto da linguagem. Entretanto o programador pode escolher atribuir um valor a uma variável comum e não alterar esse valor ao longo da execução. Constantes são normalmente nomeadas em caixa alta."
   ]
  },
  {
   "cell_type": "code",
   "execution_count": 33,
   "metadata": {},
   "outputs": [
    {
     "name": "stdout",
     "output_type": "stream",
     "text": [
      "QUARENTA_E_DOIS     = 42\n",
      "OCTAL               = 42\n",
      "HEXADECIMAL         = 42\n",
      "PI                  = 3.14159\n",
      "PI_DE_NOVO          = 3.14159\n",
      "A                   = a\n",
      "NOME_DO_PROGRAMA    = 01-constantes.py\n",
      "VERSAO_ATUAL        = v0.2\n",
      "VERDADEIRO          =  True\n",
      "NAO_PRECISO_ESTUDAR =  False\n"
     ]
    }
   ],
   "source": [
    "# Constantes inteiras:\n",
    "QUARENTA_E_DOIS = 42\n",
    "OCTAL = 0o52  # 0 à esquerda.\n",
    "HEXADECIMAL = 0x2A  # 0x a esquerda.\n",
    "\n",
    "# Constantes reais:\n",
    "PI = 3.14159\n",
    "PI_DE_NOVO = 314159E-5\n",
    "\n",
    "# Constantes simbólicas:\n",
    "A = 'a'\n",
    "NOME_DO_PROGRAMA = '01-constantes.py'\n",
    "VERSAO_ATUAL = 'v0.2'\n",
    "\n",
    "# Constantes booleanas\n",
    "VERDADEIRO = True\n",
    "NAO_PRECISO_ESTUDAR = False\n",
    "\n",
    "print('QUARENTA_E_DOIS     =', QUARENTA_E_DOIS)\n",
    "print('OCTAL               =', OCTAL)\n",
    "print('HEXADECIMAL         =', HEXADECIMAL)\n",
    "print('PI                  =', PI)\n",
    "print('PI_DE_NOVO          =', PI_DE_NOVO)\n",
    "print('A                   =', A)\n",
    "print('NOME_DO_PROGRAMA    =', NOME_DO_PROGRAMA)\n",
    "print('VERSAO_ATUAL        =', VERSAO_ATUAL)\n",
    "print('VERDADEIRO          = ', VERDADEIRO)\n",
    "print('NAO_PRECISO_ESTUDAR = ', NAO_PRECISO_ESTUDAR)"
   ]
  },
  {
   "cell_type": "markdown",
   "metadata": {},
   "source": []
  },
  {
   "cell_type": "code",
   "execution_count": 47,
   "metadata": {},
   "outputs": [
    {
     "name": "stdout",
     "output_type": "stream",
     "text": [
      "Valores que o seu sistema suporta (geralmente 64bits) vão de:\n",
      "-9223372036854775808 até 9223372036854775807\n",
      "\n",
      "\n",
      "Maior valor com o qual o Python pode trabalhar:\n",
      "179769313486231570814527423731704356798070567525844996598917476803157260780028538760589558632766878171540458953514382464234321326889464182768467546703537516986049910576551282076245490090389328944075868508455133942304583236903222948165808559332123348274797826204144723168738177180919299881250404026184124858368\n",
      "\n",
      "\n",
      "Maior valor com o qual o Python pode trabalhar em notação científica:\n",
      "1.797693E+308\n"
     ]
    }
   ],
   "source": [
    "import sys\n",
    "\n",
    "# Maiores valores negativos e positivos que a arquitetura de sua máquina pode comportar\n",
    "print('Valores que o seu sistema suporta (geralmente 64bits) vão de:\\n%d até %d' % (-sys.maxsize-1, sys.maxsize))\n",
    "print(\"\\n\")\n",
    "\n",
    "# Maior numero ponto flutuante que Python pode representar. \n",
    "#Veja que este número é maior que o valor suportado pelo sistema. \n",
    "#Então para representar número assim o Python trata os valores internamente ocupando váprios células de memória.\n",
    "print('Maior valor com o qual o Python pode trabalhar:\\n%d' % (sys.float_info.max))\n",
    "print(\"\\n\")\n",
    "print('Maior valor com o qual o Python pode trabalhar em notação científica:\\n%E' % (sys.float_info.max))"
   ]
  },
  {
   "cell_type": "markdown",
   "metadata": {},
   "source": [
    "## Operadores Aritméticos\n",
    "\n",
    "O operadores são:\n",
    "\n",
    "* \"+\"  -> soma\n",
    "* \"-\"  -> subtração\n",
    "* \"*\"  -> multiplicação\n",
    "* \"/\"  -> divisão\n",
    "* \"//\" -> divisão inteira\n",
    "* \"%\"  -> resto da divisão inteira (módulo)"
   ]
  },
  {
   "cell_type": "code",
   "execution_count": 48,
   "metadata": {},
   "outputs": [
    {
     "name": "stdout",
     "output_type": "stream",
     "text": [
      "Soma (numéricos):\n",
      "1 + 2 =  3\n",
      "2 + 1 =  3\n",
      "2 + 1.0 =  3.0\n",
      "2.0 + 1 =  3.0\n",
      "2.0 + 1.0 =  3.0\n",
      "\n",
      "Soma (simbólicos):\n",
      "'a'  + 'b'  = ab\n",
      "'b'  + 'a'  = ba\n",
      "'a'  + 'bc' = abc\n",
      "'12' + '34' = 1234\n"
     ]
    }
   ],
   "source": [
    "print('Soma (numéricos):')\n",
    "\n",
    "# A soma de dois número inteiros também é um número inteiro. Sabendo disso, escreva o resultado da operação 1 + 2. \n",
    "print('1 + 2 = ', 1 + 2)\n",
    "\n",
    "# Escreva o resultado da operação 2 + 1.\n",
    "print('2 + 1 = ', 2 + 1)\n",
    "\n",
    "# A soma de valores inteiros com reais é um valor real. Sabendo disso, escreva o resultado da operação 2 + 1.0 \n",
    "print('2 + 1.0 = ', 2 + 1.0)\n",
    "\n",
    "# Escreva o resultado da operação 2.0 + 1.\n",
    "print('2.0 + 1 = ', 2.0 + 1)\n",
    "\n",
    "# A soma de valores reais também é um valor real. Sabendo disso, escreva o resultado da operação 2.0 + 1.0.\n",
    "print('2.0 + 1.0 = ', 2.0 + 1.0)\n",
    "\n",
    "# No caso de valores simbólicos, a soma é na verdade uma concatenação, ou seja,\n",
    "# o segundo operando é acrescentado ao fim do primeiro (como um sufixo).\n",
    "print('\\nSoma (simbólicos):')\n",
    "\n",
    "# A soma de valores simbólicos também é um valor simbólico, é uma concatenação de caracteres. Sabendo disso, escreva o resultado da operação 'a' + 'b'. \n",
    "print('\\'a\\'  + \\'b\\'  =', 'a' + 'b')\n",
    "\n",
    "# Escreva o resultado da operação 'b' + 'a'.\n",
    "print('\\'b\\'  + \\'a\\'  =', 'b' + 'a')\n",
    "\n",
    "# Escreva o resultado da operação 'a' + 'bc'.\n",
    "print(\"'a'  + 'bc' =\", 'a' + 'bc')\n",
    "\n",
    "# Escreva o resultado da operação '12' + '34'. Símbolos também podem\n",
    "# representar números.\n",
    "print('\\'12\\' + \\'34\\' =', '12' + '34')"
   ]
  },
  {
   "cell_type": "code",
   "execution_count": 49,
   "metadata": {},
   "outputs": [
    {
     "name": "stdout",
     "output_type": "stream",
     "text": [
      "2 - 1 =  1\n",
      "1 - 2 =  -1\n",
      "2 - 3.0 =  -1.0\n",
      "2.0 - 1.0 =  1.0\n"
     ]
    }
   ],
   "source": [
    "# A subtração de valores inteiros de inteiros é um valor inteiro. Sabendo disso, escreva o resultado da operação 2 - 1.\n",
    "print('2 - 1 = ', 2 - 1)\n",
    "\n",
    "# O mesmo ocorre com inteiros negativos. Escreva o resultado da operação 1 - 2.\n",
    "print('1 - 2 = ', 1 - 2)\n",
    "\n",
    "# A subtração de valores reais de inteiros é um valor real. Sabendo disso, escreva o resultado da operação 2 - 1.0 \n",
    "print('2 - 3.0 = ', 2 - 3.0)\n",
    "\n",
    "# A subtração de valores reais de reais é um valor real. Sabendo disso, escreva o resultado da operação 2.0 - 1.0 \n",
    "print('2.0 - 1.0 = ', 2.0 - 1.0)"
   ]
  },
  {
   "cell_type": "code",
   "execution_count": 50,
   "metadata": {},
   "outputs": [
    {
     "name": "stdout",
     "output_type": "stream",
     "text": [
      "3 * 2 =  6\n",
      "2 * 3 =  6\n",
      "2 * 3.0 =  6.0\n",
      "'Asdfg' * 3 =  AsdfgAsdfgAsdfg\n"
     ]
    }
   ],
   "source": [
    "# A multiplicação de valores inteiros também é um valor inteiro. Sabendo disso, escreva o resultado da operação 3 * 2\n",
    "print('3 * 2 = ', 3 * 2)\n",
    "\n",
    "# Escreva o resultado da operação 2 * 3\n",
    "print('2 * 3 = ', 2 * 3)\n",
    "\n",
    "# A multiplicação de valores inteiros por reais é um valor real. Escreva o resultado da operação 2 * 3.0 \n",
    "print('2 * 3.0 = ', 2 * 3.0)\n",
    "\n",
    "# No caso de valores simbólicos, a multiplicação é na verdade uma sequência de concatenações. Isso implica que um dos operandos é simbólico, e o outro é um número inteiro positivo.\n",
    "print('\\'Asdfg\\' * 3 = ', 'Asdfg' * 3)"
   ]
  },
  {
   "cell_type": "code",
   "execution_count": 51,
   "metadata": {},
   "outputs": [
    {
     "name": "stdout",
     "output_type": "stream",
     "text": [
      "5 / 2 = 2.50\n",
      "2 / 5 = 0.666667\n",
      "2 / 5.0 = 0.666667\n",
      "2.0 / 5 = 0.67\n",
      "2.0 / 5.0 = 0.67\n",
      "5 // 2 = 2\n",
      "5 % 2 =  1\n"
     ]
    }
   ],
   "source": [
    "\n",
    "# Escreva o resultado da operação 3 / 2\n",
    "print('5 / 2 = %.2f' % (5 / 2))\n",
    "\n",
    "# Escreva o resultado da operação 2 / 3\n",
    "print('2 / 5 = %f' % (2 / 3))\n",
    "\n",
    "# Escreva o resultado da operação 2 / 3.0\n",
    "print('2 / 5.0 = %f' % (2 / 3.0))\n",
    "\n",
    "# Escreva o resultado da operação 2.0 / 3 (com duas casas decimais)\n",
    "print('2.0 / 5 = %.2f' % (2.0 / 3))\n",
    "\n",
    "# Escreva o resultado da operação 2.0 / 3.0  (com duas casas decimais)\n",
    "print('2.0 / 5.0 = %.2f' % (2.0 / 3.0))\n",
    "\n",
    "# Divisão por zero (0) não é uma operação válida!\n",
    "# print(' 2.0 / 0.0 = %f' % (2.0 / 0.0))\n",
    "\n",
    "# O operador // serve para realização da divisão inteira, ou seja, o resultado é um valor inteiro.\n",
    "# Escreva o resultado da operação 3 // 2.\n",
    "print('5 // 2 = %d' % (5 // 2))\n",
    "\n",
    "# O operador % serve para realização da divisão inteira, e o resultado é o resto (inteiro)\n",
    "# Escreva o resultado da operação 5 // 2.\n",
    "print('5 % 2 = ', 5 % 2)"
   ]
  }
 ],
 "metadata": {
  "kernelspec": {
   "display_name": "Python 3",
   "language": "python",
   "name": "python3"
  },
  "language_info": {
   "codemirror_mode": {
    "name": "ipython",
    "version": 3
   },
   "file_extension": ".py",
   "mimetype": "text/x-python",
   "name": "python",
   "nbconvert_exporter": "python",
   "pygments_lexer": "ipython3",
   "version": "3.8.9"
  }
 },
 "nbformat": 4,
 "nbformat_minor": 4
}
