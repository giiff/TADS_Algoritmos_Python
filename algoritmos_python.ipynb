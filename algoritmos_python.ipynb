{
 "cells": [
  {
   "cell_type": "markdown",
   "metadata": {},
   "source": [
    "## **Algoritmos em Python**\n",
    "\n",
    "### *Ein gutes Gewissen ist ein sanftes Ruhekissen*\n",
    "### *Uma consciência tranquila é um travesseiro macio*\n",
    "\n",
    "Este notebook traz os código trabalhados em aula. \n",
    "Utilizamos aqui Python versão 3.6.13.\n",
    "\n",
    "Divirta-se!"
   ]
  },
  {
   "cell_type": "markdown",
   "metadata": {},
   "source": [
    "## Python Notebooks\n",
    "\n",
    "Python notebooks são ambientes de desenvolvimento que funcionam em um servidor *Web*.\n",
    "Este site é um python notebook.\n",
    "Python Notebooks podem ser criados basicamente de duas maneiras:\n",
    "\n",
    "* online usando a plataforma [Google Colab](https://colab.research.google.com) (indicado para iniciantes).\n",
    "\n",
    "* localmente e sua máquina instalando o Python e os pacotes para Python Notebook (Tutorial usando Anaconda [aqui](https://github.com/giiff/algoritmos_python))"
   ]
  },
  {
   "cell_type": "markdown",
   "metadata": {},
   "source": [
    "## Iniciando com Python"
   ]
  },
  {
   "cell_type": "markdown",
   "metadata": {},
   "source": [
    "### Imprimindo uma mensagem na tela\n",
    "\n",
    "As mensagem são impressas como *strings*, ou seja textos. Portanto precisam ser representadas dentro de aspas duplas ou simples. \n",
    "\n",
    "Em geral aspas simples são mais usadas quando se quer representar um valor constante, mas não há consenso na comunidade de programação. Outro fator que faz com que programadores utilizem aspas duplas para *strings* é o fato de que as aspas simples estão presentes em muitas palavras a serem impressas. Nesse caso é preciso escapar as aspas. Veja os exemplos abaixo:"
   ]
  },
  {
   "cell_type": "code",
   "execution_count": 33,
   "metadata": {},
   "outputs": [
    {
     "name": "stdout",
     "output_type": "stream",
     "text": [
      "Exemplo de mensagem impressa na tela!\n",
      "Exemplo de palavra com aspas simples: caixa d'água\n",
      "Exemplo de palavra com aspas simples: caixa d'água\n"
     ]
    }
   ],
   "source": [
    "print(\"Exemplo de mensagem impressa na tela!\")\n",
    "\n",
    "print(\"Exemplo de palavra com aspas simples: caixa d'água\")\n",
    "\n",
    "print('Exemplo de palavra com aspas simples: caixa d\\'água')"
   ]
  },
  {
   "cell_type": "markdown",
   "metadata": {},
   "source": [
    "### Comentários\n",
    "\n",
    "Para comentar um único trecho de código basta usar o caracter \"#\" na frente do trecho de código a ser comentado.\n",
    "\n",
    "Para comentar múltiplas linhas (bloco), podem ser usados os caracteres \"\"\" no começo e no final do código. Este tipo de comentário é tambem chamado de Docstrings (*documentation strings*). Quando usado para documentar o código pode ser lido pelos geradores de documentação gerando uma formatação paradrão da documentação Python."
   ]
  },
  {
   "cell_type": "code",
   "execution_count": 34,
   "metadata": {},
   "outputs": [
    {
     "data": {
      "text/plain": [
       "'\\nEste é um \\ntrecho com múltiplas linhas\\ncomentado\\n'"
      ]
     },
     "execution_count": 34,
     "metadata": {},
     "output_type": "execute_result"
    }
   ],
   "source": [
    "# Este é um trecho comentado\n",
    "\n",
    "\"\"\"\n",
    "Este é um \n",
    "trecho com múltiplas linhas\n",
    "comentado\n",
    "\"\"\""
   ]
  },
  {
   "cell_type": "markdown",
   "metadata": {},
   "source": [
    "## Variáveis\n",
    "\n",
    "Variáveis identificam um espaço de memória que o programa pode manipular. Cada variável tem um tipo específico que determina seu tamanho em bits.\n",
    "\n",
    "Existem boas práticas e regras para nomear variáveis, sintática e semanticamente.\n",
    "\n",
    "* https://www.python.org/dev/peps/pep-0008/#naming-conventions\n",
    "\n",
    "* http://wiki.python.org.br/GuiaDeEstilo\n",
    "\n",
    "Ao identificar variáveis, use nomes que indiquem claramente seu propósito no programa.\n",
    "\n",
    "Em Python, não é necessário informar o tipo, pois o interpretador obtém essa informação a partir da atribuição inicial de valor."
   ]
  },
  {
   "cell_type": "code",
   "execution_count": 35,
   "metadata": {},
   "outputs": [
    {
     "name": "stdout",
     "output_type": "stream",
     "text": [
      "A idade é igual a 39 anos.\n"
     ]
    }
   ],
   "source": [
    "# Variáveis inteiras:\n",
    "idade = 39\n",
    "contador_1 = 0\n",
    "contador_2 = 0\n",
    "\n",
    "# imprimindo com concatenação (junção) de strings a variáveis\n",
    "print(\"A idade é igual a\", idade, \"anos.\")"
   ]
  },
  {
   "cell_type": "code",
   "execution_count": 36,
   "metadata": {},
   "outputs": [
    {
     "name": "stdout",
     "output_type": "stream",
     "text": [
      "A taxa de aprovação em algoritmos é igual a 0.99\n"
     ]
    }
   ],
   "source": [
    "# Variáveis reais:\n",
    "juros_ao_mes = 1.05\n",
    "taxa_de_aprovacao = 0.99\n",
    "\n",
    "# imprimindo com concatenação de strings a variáveis\n",
    "print(\"A taxa de aprovação em algoritmos é igual a\", taxa_de_aprovacao)"
   ]
  },
  {
   "cell_type": "code",
   "execution_count": 37,
   "metadata": {},
   "outputs": [
    {
     "name": "stdout",
     "output_type": "stream",
     "text": [
      "O e-mail de Alan M. Turing é alan.turing@ifg.edu.br\n"
     ]
    }
   ],
   "source": [
    "# Variáveis simbólicas:\n",
    "sexo = 'M'\n",
    "resposta = 'N'\n",
    "nome = 'Alan M. Turing'\n",
    "email = 'alan.turing@ifg.edu.br'\n",
    "\n",
    "# Imprimindo com variáveis dentro da string; usa-se o f antes da string\n",
    "print(f\"O e-mail de {nome} é {email}\")"
   ]
  },
  {
   "cell_type": "code",
   "execution_count": 38,
   "metadata": {},
   "outputs": [],
   "source": [
    "# Variáveis booleanas\n",
    "domina_a_linguagem = False\n",
    "vai_estudar = True\n",
    "# As variáveis booleanas representam apenas valores verdadeiros (True) ou falsos (False)"
   ]
  },
  {
   "cell_type": "markdown",
   "metadata": {},
   "source": [
    "A informação armazenada em uma variável pode 'mudar', e esta atualização permite que se realize as mais diversas tarefas. Vejamos alguns exemplos:"
   ]
  },
  {
   "cell_type": "code",
   "execution_count": 39,
   "metadata": {},
   "outputs": [
    {
     "name": "stdout",
     "output_type": "stream",
     "text": [
      "John Von Neumann tem 20 anos, seu e-mail é john.neumann@ifg.edu.br e ele paga uma taxa de juros de 0.05.\n",
      "John Von Neumann tem 40 anos, seu e-mail é john.neumann@ifg.edu.br e ele paga uma taxa de juros de 0.06.\n"
     ]
    }
   ],
   "source": [
    "idade = 20\n",
    "juros_ao_mes = 0.05\n",
    "nome = 'John Von Neumann'\n",
    "email = 'john.neumann@ifg.edu.br'\n",
    "\n",
    "print(f\"{nome} tem {idade} anos, seu e-mail é {email} e ele paga uma taxa de juros de {juros_ao_mes}.\")\n",
    "\n",
    "idade = 40\n",
    "juros_ao_mes = 0.06\n",
    "\n",
    "print(f\"{nome} tem {idade} anos, seu e-mail é {email} e ele paga uma taxa de juros de {juros_ao_mes}.\")"
   ]
  },
  {
   "cell_type": "markdown",
   "metadata": {},
   "source": [
    "### Constantes\n",
    "Constantes são valores fixos em um programa. Elas são armazenadas em variáveis especiais cujo conteúdo atribuído inicialmente não se altera ao longo da execução do programa.\n",
    "\n",
    "Em Python não há constantes por decisão de projeto da linguagem. Entretanto o programador pode escolher atribuir um valor a uma variável comum e não alterar esse valor ao longo da execução. Constantes são normalmente nomeadas em caixa alta."
   ]
  },
  {
   "cell_type": "code",
   "execution_count": 40,
   "metadata": {},
   "outputs": [
    {
     "name": "stdout",
     "output_type": "stream",
     "text": [
      "QUARENTA_E_DOIS     = 42\n",
      "OCTAL               = 42\n",
      "HEXADECIMAL         = 42\n",
      "PI                  = 3.14159\n",
      "PI_DE_NOVO          = 3.14159\n",
      "A                   = a\n",
      "NOME_DO_PROGRAMA    = 01-constantes.py\n",
      "VERSAO_ATUAL        = v0.2\n",
      "VERDADEIRO          =  True\n",
      "NAO_PRECISO_ESTUDAR =  False\n"
     ]
    }
   ],
   "source": [
    "# Constantes inteiras:\n",
    "QUARENTA_E_DOIS = 42\n",
    "OCTAL = 0o52  # 0 à esquerda.\n",
    "HEXADECIMAL = 0x2A  # 0x a esquerda.\n",
    "\n",
    "# Constantes reais:\n",
    "PI = 3.14159\n",
    "PI_DE_NOVO = 314159E-5\n",
    "\n",
    "# Constantes simbólicas:\n",
    "A = 'a'\n",
    "NOME_DO_PROGRAMA = '01-constantes.py'\n",
    "VERSAO_ATUAL = 'v0.2'\n",
    "\n",
    "# Constantes booleanas\n",
    "VERDADEIRO = True\n",
    "NAO_PRECISO_ESTUDAR = False\n",
    "\n",
    "print('QUARENTA_E_DOIS     =', QUARENTA_E_DOIS)\n",
    "print('OCTAL               =', OCTAL)\n",
    "print('HEXADECIMAL         =', HEXADECIMAL)\n",
    "print('PI                  =', PI)\n",
    "print('PI_DE_NOVO          =', PI_DE_NOVO)\n",
    "print('A                   =', A)\n",
    "print('NOME_DO_PROGRAMA    =', NOME_DO_PROGRAMA)\n",
    "print('VERSAO_ATUAL        =', VERSAO_ATUAL)\n",
    "print('VERDADEIRO          = ', VERDADEIRO)\n",
    "print('NAO_PRECISO_ESTUDAR = ', NAO_PRECISO_ESTUDAR)"
   ]
  },
  {
   "cell_type": "markdown",
   "metadata": {},
   "source": []
  },
  {
   "cell_type": "code",
   "execution_count": 41,
   "metadata": {},
   "outputs": [
    {
     "name": "stdout",
     "output_type": "stream",
     "text": [
      "Valores que o seu sistema suporta (geralmente 64bits) vão de:\n",
      "-9223372036854775808 até 9223372036854775807\n",
      "\n",
      "\n",
      "Maior valor com o qual o Python pode trabalhar:\n",
      "179769313486231570814527423731704356798070567525844996598917476803157260780028538760589558632766878171540458953514382464234321326889464182768467546703537516986049910576551282076245490090389328944075868508455133942304583236903222948165808559332123348274797826204144723168738177180919299881250404026184124858368\n",
      "\n",
      "\n",
      "Maior valor com o qual o Python pode trabalhar em notação científica:\n",
      "1.797693E+308\n"
     ]
    }
   ],
   "source": [
    "import sys\n",
    "\n",
    "# Maiores valores negativos e positivos que a arquitetura de sua máquina pode comportar\n",
    "print('Valores que o seu sistema suporta (geralmente 64bits) vão de:\\n%d até %d' % (-sys.maxsize-1, sys.maxsize))\n",
    "print(\"\\n\")\n",
    "\n",
    "# Maior numero ponto flutuante que Python pode representar. \n",
    "#Veja que este número é maior que o valor suportado pelo sistema. \n",
    "#Então para representar número assim o Python trata os valores internamente ocupando váprios células de memória.\n",
    "print('Maior valor com o qual o Python pode trabalhar:\\n%d' % (sys.float_info.max))\n",
    "print(\"\\n\")\n",
    "print('Maior valor com o qual o Python pode trabalhar em notação científica:\\n%E' % (sys.float_info.max))"
   ]
  },
  {
   "cell_type": "markdown",
   "metadata": {},
   "source": [
    "## Operadores Aritméticos\n",
    "\n",
    "O operadores são:\n",
    "\n",
    "* \"+\"  -> soma\n",
    "* \"-\"  -> subtração\n",
    "* \"*\"  -> multiplicação\n",
    "* \"/\"  -> divisão\n",
    "* \"//\" -> divisão inteira\n",
    "* \"%\"  -> resto da divisão inteira (módulo)"
   ]
  },
  {
   "cell_type": "code",
   "execution_count": 42,
   "metadata": {},
   "outputs": [
    {
     "name": "stdout",
     "output_type": "stream",
     "text": [
      "Soma (numéricos):\n",
      "1 + 2 =  3\n",
      "2 + 1 =  3\n",
      "2 + 1.0 =  3.0\n",
      "2.0 + 1 =  3.0\n",
      "2.0 + 1.0 =  3.0\n",
      "\n",
      "Soma (simbólicos):\n",
      "'a'  + 'b'  = ab\n",
      "'b'  + 'a'  = ba\n",
      "'a'  + 'bc' = abc\n",
      "'12' + '34' = 1234\n"
     ]
    }
   ],
   "source": [
    "print('Soma (numéricos):')\n",
    "\n",
    "# A soma de dois número inteiros também é um número inteiro. Sabendo disso, escreva o resultado da operação 1 + 2. \n",
    "print('1 + 2 = ', 1 + 2)\n",
    "\n",
    "# Escreva o resultado da operação 2 + 1.\n",
    "print('2 + 1 = ', 2 + 1)\n",
    "\n",
    "# A soma de valores inteiros com reais é um valor real. Sabendo disso, escreva o resultado da operação 2 + 1.0 \n",
    "print('2 + 1.0 = ', 2 + 1.0)\n",
    "\n",
    "# Escreva o resultado da operação 2.0 + 1.\n",
    "print('2.0 + 1 = ', 2.0 + 1)\n",
    "\n",
    "# A soma de valores reais também é um valor real. Sabendo disso, escreva o resultado da operação 2.0 + 1.0.\n",
    "print('2.0 + 1.0 = ', 2.0 + 1.0)\n",
    "\n",
    "# No caso de valores simbólicos, a soma é na verdade uma concatenação, ou seja,\n",
    "# o segundo operando é acrescentado ao fim do primeiro (como um sufixo).\n",
    "print('\\nSoma (simbólicos):')\n",
    "\n",
    "# A soma de valores simbólicos também é um valor simbólico, é uma concatenação de caracteres. Sabendo disso, escreva o resultado da operação 'a' + 'b'. \n",
    "print('\\'a\\'  + \\'b\\'  =', 'a' + 'b')\n",
    "\n",
    "# Escreva o resultado da operação 'b' + 'a'.\n",
    "print('\\'b\\'  + \\'a\\'  =', 'b' + 'a')\n",
    "\n",
    "# Escreva o resultado da operação 'a' + 'bc'.\n",
    "print(\"'a'  + 'bc' =\", 'a' + 'bc')\n",
    "\n",
    "# Escreva o resultado da operação '12' + '34'. Símbolos também podem\n",
    "# representar números.\n",
    "print('\\'12\\' + \\'34\\' =', '12' + '34')"
   ]
  },
  {
   "cell_type": "code",
   "execution_count": 43,
   "metadata": {},
   "outputs": [
    {
     "name": "stdout",
     "output_type": "stream",
     "text": [
      "2 - 1 =  1\n",
      "1 - 2 =  -1\n",
      "2 - 3.0 =  -1.0\n",
      "2.0 - 1.0 =  1.0\n"
     ]
    }
   ],
   "source": [
    "# A subtração de valores inteiros de inteiros é um valor inteiro. Sabendo disso, escreva o resultado da operação 2 - 1.\n",
    "print('2 - 1 = ', 2 - 1)\n",
    "\n",
    "# O mesmo ocorre com inteiros negativos. Escreva o resultado da operação 1 - 2.\n",
    "print('1 - 2 = ', 1 - 2)\n",
    "\n",
    "# A subtração de valores reais de inteiros é um valor real. Sabendo disso, escreva o resultado da operação 2 - 1.0 \n",
    "print('2 - 3.0 = ', 2 - 3.0)\n",
    "\n",
    "# A subtração de valores reais de reais é um valor real. Sabendo disso, escreva o resultado da operação 2.0 - 1.0 \n",
    "print('2.0 - 1.0 = ', 2.0 - 1.0)"
   ]
  },
  {
   "cell_type": "code",
   "execution_count": 44,
   "metadata": {},
   "outputs": [
    {
     "name": "stdout",
     "output_type": "stream",
     "text": [
      "3 * 2 =  6\n",
      "2 * 3 =  6\n",
      "2 * 3.0 =  6.0\n",
      "'Asdfg' * 3 =  AsdfgAsdfgAsdfg\n"
     ]
    }
   ],
   "source": [
    "# A multiplicação de valores inteiros também é um valor inteiro. Sabendo disso, escreva o resultado da operação 3 * 2\n",
    "print('3 * 2 = ', 3 * 2)\n",
    "\n",
    "# Escreva o resultado da operação 2 * 3\n",
    "print('2 * 3 = ', 2 * 3)\n",
    "\n",
    "# A multiplicação de valores inteiros por reais é um valor real. Escreva o resultado da operação 2 * 3.0 \n",
    "print('2 * 3.0 = ', 2 * 3.0)\n",
    "\n",
    "# No caso de valores simbólicos, a multiplicação é na verdade uma sequência de concatenações. Isso implica que um dos operandos é simbólico, e o outro é um número inteiro positivo.\n",
    "print('\\'Asdfg\\' * 3 = ', 'Asdfg' * 3)"
   ]
  },
  {
   "cell_type": "code",
   "execution_count": 45,
   "metadata": {},
   "outputs": [
    {
     "name": "stdout",
     "output_type": "stream",
     "text": [
      "5 / 2 = 2.50\n",
      "2 / 5 = 0.666667\n",
      "2 / 5.0 = 0.666667\n",
      "2.0 / 5 = 0.67\n",
      "2.0 / 5.0 = 0.67\n",
      "5 // 2 = 2\n",
      "5 % 2 =  1\n"
     ]
    }
   ],
   "source": [
    "# Escreva o resultado da operação 3 / 2\n",
    "print('5 / 2 = %.2f' % (5 / 2))\n",
    "\n",
    "# Escreva o resultado da operação 2 / 3\n",
    "print('2 / 5 = %f' % (2 / 3))\n",
    "\n",
    "# Escreva o resultado da operação 2 / 3.0\n",
    "print('2 / 5.0 = %f' % (2 / 3.0))\n",
    "\n",
    "# Escreva o resultado da operação 2.0 / 3 (com duas casas decimais)\n",
    "print('2.0 / 5 = %.2f' % (2.0 / 3))\n",
    "\n",
    "# Escreva o resultado da operação 2.0 / 3.0  (com duas casas decimais)\n",
    "print('2.0 / 5.0 = %.2f' % (2.0 / 3.0))\n",
    "\n",
    "# Divisão por zero (0) não é uma operação válida!\n",
    "# print(' 2.0 / 0.0 = %f' % (2.0 / 0.0))\n",
    "\n",
    "# O operador // serve para realização da divisão inteira, ou seja, o resultado é um valor inteiro.\n",
    "# Escreva o resultado da operação 3 // 2.\n",
    "print('5 // 2 = %d' % (5 // 2))\n",
    "\n",
    "# O operador % serve para realização da divisão inteira, e o resultado é o resto (inteiro)\n",
    "# Escreva o resultado da operação 5 // 2.\n",
    "print('5 % 2 = ', 5 % 2)"
   ]
  },
  {
   "cell_type": "markdown",
   "metadata": {},
   "source": [
    "## Estruturas de repetição\n",
    "\n",
    "Estruturas de repetição em linguagens de programação são capazes de executar laços (loops) de forma a possibilitar que um mesmo bloco de comandos possa ser repetido por n vezes, onde n é um valor que poder definido de várias formas."
   ]
  },
  {
   "cell_type": "code",
   "execution_count": 46,
   "metadata": {},
   "outputs": [
    {
     "name": "stdout",
     "output_type": "stream",
     "text": [
      "1\n",
      "2\n",
      "3\n",
      "4\n",
      "5\n",
      "6\n",
      "7\n",
      "8\n",
      "9\n",
      "10\n",
      "Saiu do while\n"
     ]
    }
   ],
   "source": [
    "# variavel com contador começa valendo 1\n",
    "contador = 1\n",
    "# enquanto o valor de contador permanecer menor que 11, o bloco de comandos identados será re-executado\n",
    "while (contador < 11):\n",
    "  # o valor atual do contador é impresso\n",
    "  print(contador)\n",
    "  # o valor de contador é incrementado em 1 a cada execução\n",
    "  contador = contador + 1\n",
    "print(\"Saiu do while\")"
   ]
  },
  {
   "cell_type": "code",
   "execution_count": 47,
   "metadata": {},
   "outputs": [
    {
     "name": "stdout",
     "output_type": "stream",
     "text": [
      "Veja que não imprime o bloco subordinado se a condição for falsa?\n"
     ]
    }
   ],
   "source": [
    "# é preciso que a condição de parada seja uma expressão lógica, ou seja\n",
    "# a condição, depois de processada precisa retornar falso ou verdadeiro\n",
    "while( False ):\n",
    "  print(\"Esta mensagem não será impressa se a condição for falsa\")\n",
    "  print(\"Nada no bloco subordinado ao while (identado) será impresso\")\n",
    "print(\"Veja que não imprime o bloco subordinado se a condição for falsa?\")"
   ]
  },
  {
   "cell_type": "code",
   "execution_count": 48,
   "metadata": {},
   "outputs": [
    {
     "name": "stdout",
     "output_type": "stream",
     "text": [
      "1\n",
      "2\n",
      "3\n",
      "4\n",
      "5\n"
     ]
    }
   ],
   "source": [
    "# O for é uma estrutura de repetição que permite iterar sobre uma lista\n",
    "numeros = [1, 2, 3, 4, 5] # este é um vetor, estudaremos essa estrutura melhor mais à frente\n",
    "for numero in numeros:\n",
    "  print(numero)"
   ]
  },
  {
   "cell_type": "code",
   "execution_count": 49,
   "metadata": {},
   "outputs": [
    {
     "name": "stdout",
     "output_type": "stream",
     "text": [
      "[0, 1, 2, 3, 4]\n",
      "[0, 1, 2, 3, 4]\n",
      "For para lista1\n",
      "0\n",
      "1\n",
      "2\n",
      "3\n",
      "4\n",
      "For para lista2\n",
      "0\n",
      "1\n",
      "2\n",
      "3\n",
      "4\n",
      "For para uma lista criada manualmente em tempo de execução\n",
      "0\n",
      "1\n",
      "2\n",
      "3\n",
      "4\n"
     ]
    }
   ],
   "source": [
    "# Criando 2 listas diferentes com os mesmos valores\n",
    "lista1 = [0,1,2,3,4]\n",
    "lista2 = list( range(5) )\n",
    "# Imprimindo as duas listas\n",
    "print(lista1)\n",
    "print(lista2)\n",
    "\n",
    "# Uso do for para imprimir os itens das listas 1 e 2\n",
    "print(\"For para lista1\")\n",
    "for item in lista1:\n",
    "  print(item)\n",
    "\n",
    "print(\"For para lista2\")\n",
    "for item in lista2:\n",
    "  print(item)\n",
    "\n",
    "# uso do for para uma lista criada em tempo de execução\n",
    "print(\"For para uma lista criada manualmente em tempo de execução\")\n",
    "for item in [0, 1, 2, 3, 4]:\n",
    "\tprint(item)"
   ]
  },
  {
   "cell_type": "markdown",
   "metadata": {},
   "source": [
    "## Estruturas condicionais \n",
    "\n",
    "Sentenças lógicas (aquelas que podem ser False ou True) são usadas para controlar se um bloco de comandos será ou não executado.\n",
    "\n",
    "As estruturas condicionais em Python suportam tanto operadores matemáticos (>, <, >=, <=, ==, !=) quanto operadores lógicos ( and, or)."
   ]
  },
  {
   "cell_type": "markdown",
   "metadata": {},
   "source": [
    "### if\n",
    "\n",
    "O *if* permite que um bloco de código subordinado a ele seja executado caso a condição que ele processa tenha valor verdade = True\n"
   ]
  },
  {
   "cell_type": "code",
   "execution_count": 50,
   "metadata": {},
   "outputs": [
    {
     "name": "stdout",
     "output_type": "stream",
     "text": [
      "'a' é maior que 'b'\n",
      "Comando depois do IF\n"
     ]
    }
   ],
   "source": [
    "a = 20\n",
    "b = 10\n",
    "if a > b:\n",
    "    print(\"'a' é maior que 'b'\")\n",
    "print(\"Comando depois do IF\")"
   ]
  },
  {
   "cell_type": "markdown",
   "metadata": {},
   "source": [
    "### elif\n",
    " O *elif* permite que um bloco de código subordinado a ele seja executado caso a condição que ele processa tenha valor verdade = True e a condição anterior tenha valor verdade = False"
   ]
  },
  {
   "cell_type": "code",
   "execution_count": 51,
   "metadata": {},
   "outputs": [
    {
     "name": "stdout",
     "output_type": "stream",
     "text": [
      "'a' é igual a 'b'\n"
     ]
    }
   ],
   "source": [
    "a = 20\n",
    "b = 20\n",
    "if a > b:\n",
    "  print(\"'a' é maior que 'b'\")\n",
    "elif a == b: # usado para testar uma condição, se a anterior for falsa\n",
    "  print(\"'a' é igual a 'b'\")  "
   ]
  },
  {
   "cell_type": "markdown",
   "metadata": {},
   "source": [
    "### else\n",
    "\n",
    "O *else* processa com valor verdade = True qualquer coisa que não tenha sido processada com valor verdade = True pelas condições anteriores"
   ]
  },
  {
   "cell_type": "code",
   "execution_count": 52,
   "metadata": {},
   "outputs": [
    {
     "name": "stdout",
     "output_type": "stream",
     "text": [
      "'a' é menor que 'b'\n"
     ]
    }
   ],
   "source": [
    "a = 10\n",
    "b = 20\n",
    "if a > b:\n",
    "  print(\"'a' é maior que 'b'\")\n",
    "elif a == b:\n",
    "  print(\"'a' é igual a 'b'\")\n",
    "else:\n",
    "  print(\"'a' é menor que 'b'\")"
   ]
  },
  {
   "cell_type": "markdown",
   "metadata": {},
   "source": [
    "### if ternário\n",
    "\n",
    "O *if* ternário é uma expressão condicional que funciona exatamente como o *if/else*, mas escrito em uma única linha"
   ]
  },
  {
   "cell_type": "code",
   "execution_count": 53,
   "metadata": {},
   "outputs": [
    {
     "name": "stdout",
     "output_type": "stream",
     "text": [
      "b\n",
      "b\n"
     ]
    }
   ],
   "source": [
    "a = 10\n",
    "b = 20\n",
    "print(\"a\") if a > b else print(\"b\") \n",
    "\n",
    "if a > b:\n",
    "  print(\"a\")\n",
    "else:\n",
    "  print(\"b\")"
   ]
  },
  {
   "cell_type": "markdown",
   "metadata": {},
   "source": [
    "### Operadores lógicos em expressões booleanas"
   ]
  },
  {
   "cell_type": "markdown",
   "metadata": {},
   "source": [
    "**and** é o operador lógico equivalente ao \"e\" lógico"
   ]
  },
  {
   "cell_type": "code",
   "execution_count": 54,
   "metadata": {},
   "outputs": [
    {
     "name": "stdout",
     "output_type": "stream",
     "text": [
      "a, b e c são iguais\n"
     ]
    }
   ],
   "source": [
    "a = 10\n",
    "b = 10\n",
    "c = 10\n",
    "if a == b and a == c: # V and V = V\n",
    "  print(\"a, b e c são iguais\")"
   ]
  },
  {
   "cell_type": "markdown",
   "metadata": {},
   "source": [
    "**or** é operador lógico equivalente ao \"ou\" lógico"
   ]
  },
  {
   "cell_type": "code",
   "execution_count": 55,
   "metadata": {},
   "outputs": [
    {
     "name": "stdout",
     "output_type": "stream",
     "text": [
      "a é igual a b, ou a é igual a c\n"
     ]
    }
   ],
   "source": [
    "a = 10\n",
    "b = 10\n",
    "c = 20\n",
    "if a == b or a == c: # V or F = V\n",
    "  print(\"a é igual a b, ou a é igual a c\")"
   ]
  },
  {
   "cell_type": "markdown",
   "metadata": {},
   "source": [
    "**pass** é a palavra reservada da linguagem Python para execução de uma instrução vazia"
   ]
  },
  {
   "cell_type": "code",
   "execution_count": 56,
   "metadata": {},
   "outputs": [],
   "source": [
    "a = 10\n",
    "b = 20\n",
    "if a > b:\n",
    "  print(\"a\")\n",
    "else:\n",
    "  pass"
   ]
  },
  {
   "cell_type": "markdown",
   "metadata": {},
   "source": [
    "## Entrada de dados\n",
    "Em python a entrada de dados pode ser feita via *prompt*, ou seja uma espera de valor por parte do usuário.\n",
    "Também podem ser lidos valores de arquivos ou de bancos de dados.\n",
    "Para esta seção, vamos nos concentrar na entrada de dados via *prompt*."
   ]
  },
  {
   "cell_type": "code",
   "execution_count": 57,
   "metadata": {},
   "outputs": [
    {
     "name": "stdout",
     "output_type": "stream",
     "text": [
      "Informe um valor: 10\n",
      "10\n"
     ]
    }
   ],
   "source": [
    "val = input(\"Informe um valor: \") \n",
    "print(val)"
   ]
  },
  {
   "cell_type": "code",
   "execution_count": 58,
   "metadata": {},
   "outputs": [
    {
     "name": "stdout",
     "output_type": "stream",
     "text": [
      "Informe um valor: 10\n",
      "<class 'str'>\n",
      "Informe um valor: 10\n",
      "<class 'int'>\n"
     ]
    }
   ],
   "source": [
    "# os valores são lidos como *strings*. \n",
    "# Caso seja necessário, é possível convertê-los para outro tipo, como inteiro.\n",
    "val = input(\"Informe um valor: \") # valor lido como string\n",
    "print(type(val))\n",
    "val = int(input(\"Informe um valor: \")) # valor lido convertido para inteiro\n",
    "print(type(val))"
   ]
  },
  {
   "cell_type": "markdown",
   "metadata": {},
   "source": [
    "### Dicas de formatação"
   ]
  },
  {
   "cell_type": "code",
   "execution_count": 59,
   "metadata": {},
   "outputs": [
    {
     "name": "stdout",
     "output_type": "stream",
     "text": [
      "Quantidade de itens: 10\n",
      "10 unidades do item I345X3 por R$ 25.41 custa R$ 254.10.\n",
      "O valor de x é 10\n"
     ]
    }
   ],
   "source": [
    "quantidade = int(input(\"Quantidade de itens: \"))\n",
    "id_item = \"I345X3\"\n",
    "preco = 25.41\n",
    "total = quantidade*preco\n",
    "pedido = \"{} unidades do item {} por R$ {:.2f} custa R$ {:.2f}.\" # 2 casas decimais\n",
    "print(pedido.format(quantidade, id_item, preco, total))\n",
    "\n",
    "x = 10\n",
    "print(f\"O valor de x é {x}\")"
   ]
  },
  {
   "cell_type": "markdown",
   "metadata": {},
   "source": [
    "## Funções"
   ]
  },
  {
   "cell_type": "code",
   "execution_count": 60,
   "metadata": {},
   "outputs": [
    {
     "name": "stdout",
     "output_type": "stream",
     "text": [
      "O menor valor entre 7 e 5 é 5\n"
     ]
    }
   ],
   "source": [
    "# A função min() verifica o menor valor entre dois números                  # |\n",
    "#    +-- Nome da função                                                     # |\n",
    "#    |                                                                      # |\n",
    "#    |    +-- Argumentos (x,y). Valores para a função processar.            # |\n",
    "#    |    |                                                                 # |\n",
    "#    V    V                                                                 # |\n",
    "def min(x, y):                                                              # |\n",
    "    if x < y:                                                               # |\n",
    "        return x                                                            # |\n",
    "    elif y < x:                                                             # |\n",
    "        return y                                                            # |\n",
    "    else:                                                                   # |\n",
    "        return False                                                        # |\n",
    "                                                                            # |\n",
    "# Testando a função                                                         # |\n",
    "a = 7  #<-------+                                                           # |\n",
    "b = 5  #<-------+--+                                                        # |\n",
    "#               |  |                                                        # |\n",
    "resultado = min(a, b)                                                       # |\n",
    "print(f\"O menor valor entre {a} e {b} é {resultado}\")                       # |"
   ]
  },
  {
   "cell_type": "code",
   "execution_count": 61,
   "metadata": {},
   "outputs": [
    {
     "name": "stdout",
     "output_type": "stream",
     "text": [
      "Digite o número: 10\n",
      "Digite o número: 10\n",
      "Digite o número: 10\n",
      "a=10.0, b=10.0, c=10.0\n"
     ]
    }
   ],
   "source": [
    "# Exemplo de aplicação de funções: Ler número e converter para decimal\n",
    "def lerNumeroDecimal():\n",
    "    '''Lê um valor real.'''\n",
    "    return float(input('Digite o número: '))\n",
    "\n",
    "a = lerNumeroDecimal()\n",
    "b = lerNumeroDecimal()\n",
    "c = lerNumeroDecimal()\n",
    "\n",
    "print('a={}, b={}, c={}'.format(a,b,c))"
   ]
  },
  {
   "cell_type": "code",
   "execution_count": 62,
   "metadata": {},
   "outputs": [
    {
     "name": "stdout",
     "output_type": "stream",
     "text": [
      "Valores fora da função [antes da execução]: (x,y) = (1,2)\n",
      "Valores dentro da função [trocados]: (x,y) = (2,1)\n",
      "Valores fora da função [depois da execução]: (x,y) = (1,2)\n"
     ]
    }
   ],
   "source": [
    "# Escopo das variáveis\n",
    "# As variáveis que estão fora da função não são \"enxergadas pela função\"\n",
    "# Para que a função trabalhe com essas variáveis é preciso passar os valores como parâmetros\n",
    "# Os valores processados dentro da função só serão \"enxergados\" pelo programa, se forem retornados pela função\n",
    "def troca(x, y):\n",
    "    '''Troca os valores de x e y no escopo local.'''\n",
    "    x, y = y, x\n",
    "    print('Valores dentro da função [trocados]: (x,y) = (%d,%d)' % (x, y))\n",
    "\n",
    "x = 1\n",
    "y = 2\n",
    "print('Valores fora da função [antes da execução]: (x,y) = (%d,%d)' % (x, y))\n",
    "troca(x, y)\n",
    "print('Valores fora da função [depois da execução]: (x,y) = (%d,%d)' % (x, y))"
   ]
  },
  {
   "cell_type": "code",
   "execution_count": 63,
   "metadata": {},
   "outputs": [
    {
     "name": "stdout",
     "output_type": "stream",
     "text": [
      "Preço produto = R$ 123.78\n",
      "Desconto = 4.5%\n",
      "Preço final = R$ 118.2099\n",
      "\n",
      "Preço produto = R$ 132\n",
      "Desconto = 10.0%\n",
      "Preço final = R$ 126.06\n",
      "\n",
      "Preço produto = R$ 3452\n",
      "Desconto = 15.0%\n",
      "Preço final = R$ 3296.66\n",
      "\n",
      "Preço produto = R$ 234\n",
      "Desconto = 2.0%\n",
      "Preço final = R$ 223.47\n",
      "\n",
      "Preço produto = R$ 213456\n",
      "Desconto = 30.0%\n",
      "Preço final = R$ 203850.48\n",
      "\n",
      "Preço produto = R$ 895\n",
      "Desconto = 10.0%\n",
      "Preço final = R$ 854.725\n",
      "\n"
     ]
    }
   ],
   "source": [
    "# Exemplo de função para calcular o preço final de um produto com um deterinado desconto\n",
    "def calcularDesconto(preco, deconto):\n",
    "  preco_final = preco - (preco*desconto)\n",
    "  return f\"Preço produto = R$ {preco}\\nDesconto = {deconto*100}%\\nPreço final = R$ {preco_final}\\n\"\n",
    "\n",
    "preco = 123.78\n",
    "desconto = 0.045\n",
    "\n",
    "print(calcularDesconto(preco, desconto))\n",
    "print(calcularDesconto(132, 0.1))\n",
    "print(calcularDesconto(3452, 0.15))\n",
    "print(calcularDesconto(234, 0.02))\n",
    "print(calcularDesconto(213456, 0.3))\n",
    "print(calcularDesconto(895, 0.1))"
   ]
  },
  {
   "cell_type": "markdown",
   "metadata": {},
   "source": [
    "### Arrays\n",
    "\n",
    "Arrays ou listas em Python são variáveis heterogêneas ou um tipo abstrato de dados, cuja quantidade de elementos varia de acordo com o tipo de sistema. Em sistemas de 64 bits, por exemplo essa quantidade e de: "
   ]
  },
  {
   "cell_type": "code",
   "execution_count": 64,
   "metadata": {},
   "outputs": [
    {
     "name": "stdout",
     "output_type": "stream",
     "text": [
      "9223372036854775807 elementos.\n"
     ]
    }
   ],
   "source": [
    "import sys\n",
    "import locale\n",
    "print( locale.format_string(\"%d\", sys.maxsize, grouping=True) + \" elementos.\")"
   ]
  },
  {
   "cell_type": "code",
   "execution_count": 65,
   "metadata": {},
   "outputs": [
    {
     "name": "stdout",
     "output_type": "stream",
     "text": [
      "Elemento na posição 0 da lista:  banana\n",
      "Elemento na posição 2 da lista:  uva\n",
      "Elementos das posições 1 até 4 (4 não incluso):  ['maçã', 'uva', 'abacate']\n",
      "Elementos do início até posição 4 (4 não incluso):  ['banana', 'maçã', 'uva', 'abacate']\n",
      "Elemento da última posição:  manga\n",
      "Elemento da penúltima posição:  abacate\n",
      "Elemento da posição 1 até a penúltima posição (esta não inclusa):  ['maçã', 'uva']\n",
      "#####################################\n",
      "# Usando uma estrutura de repetição #\n",
      "#####################################\n",
      "banana\n",
      "maçã\n",
      "uva\n",
      "abacate\n",
      "manga\n",
      "##############################################################################################\n",
      "# Usando uma estrutura de repetição e verificando se há um determinado elemento de interesse #\n",
      "##############################################################################################\n",
      "Temos uva na lista.\n"
     ]
    }
   ],
   "source": [
    "# Uma lista é criada como uma variável comum em Python e os seus elementos estão delimitados por colchetes e separados por vírgula\n",
    "l1 = [1, 2, 3]\n",
    "# A lista pode conter elementos de vários tipos\n",
    "l2 = [\"uma string\", 10, True]\n",
    "# Vamos praticar um pouco...\n",
    "# -------|   0   |-|  1 |--| 2 |--|   3   |--|  4  |\n",
    "lista = [\"banana\", \"maçã\", \"uva\", \"abacate\", \"manga\"]\n",
    "# Para acessar cada elemento da lista, basta usar sua posição. As posições iniciam-se em 0\n",
    "print(\"Elemento na posição 0 da lista: \" , lista[0])\n",
    "print(\"Elemento na posição 2 da lista: \" , lista[2])\n",
    "print(\"Elementos das posições 1 até 4 (4 não incluso): \" , lista[1:4])\n",
    "print(\"Elementos do início até posição 4 (4 não incluso): \" , lista[:4])\n",
    "print(\"Elemento da última posição: \" , lista[-1])\n",
    "print(\"Elemento da penúltima posição: \" , lista[-2])\n",
    "print(\"Elemento da posição 1 até a penúltima posição (esta não inclusa): \" , lista[1:-2])\n",
    "\n",
    "# Usando uma estrutura de repetição, é possível acessar cada elemento também\n",
    "print(\"#####################################\")\n",
    "print(\"# Usando uma estrutura de repetição #\")\n",
    "print(\"#####################################\")\n",
    "for elemento in lista: # cada elemento da lista será colocado na variável elemento enquanto durar o loop\n",
    "  print(elemento) \n",
    "\n",
    "print(\"##############################################################################################\")\n",
    "print(\"# Usando uma estrutura de repetição e verificando se há um determinado elemento de interesse #\")\n",
    "print(\"##############################################################################################\")\n",
    "for elemento in lista: \n",
    "  if elemento == \"uva\":\n",
    "    print(\"Temos\", elemento, \"na lista.\")"
   ]
  },
  {
   "cell_type": "code",
   "execution_count": 66,
   "metadata": {},
   "outputs": [
    {
     "name": "stdout",
     "output_type": "stream",
     "text": [
      "1 \t2 \t3 \t\n",
      "4 \t5 \t6 \t\n",
      "7 \t8 \t9 \t\n",
      "\n",
      "5\n"
     ]
    }
   ],
   "source": [
    "# Listas compostas\n",
    "matriz = [ [1, 2, 3], [4, 5, 6], [7, 8, 9] ]\n",
    "for linha in matriz:\n",
    "  for coluna in linha:\n",
    "    print(coluna, \"\\t\", end='')\n",
    "  print()\n",
    "\n",
    "# Acessando um elemento específico de uma matriz (linha 1 coluna 1 = número 5)\n",
    "print()\n",
    "print(matriz[1][1])"
   ]
  },
  {
   "cell_type": "markdown",
   "metadata": {},
   "source": [
    "## Dicionários\n",
    "Dicionários são uma coleção não-ordenada de dados indexados (chave:valor). Em Python são escritos com chaves."
   ]
  },
  {
   "cell_type": "code",
   "execution_count": 67,
   "metadata": {},
   "outputs": [
    {
     "name": "stdout",
     "output_type": "stream",
     "text": [
      "########################################\n",
      "{'chave1': 'valor1', 'chave2': 'valor2', 'chave3': 'valor3'}\n",
      "########################################\n",
      "{'marca': 'Volkswagen', 'modelo': 'Fox', 'motor': 1.6}\n"
     ]
    }
   ],
   "source": [
    "print(\"########################################\")\n",
    "meu_dicionario = {\n",
    "    \"chave1\":\"valor1\", \n",
    "    \"chave2\":\"valor2\", \n",
    "    \"chave3\":\"valor3\"\n",
    "    }\n",
    "print(meu_dicionario)\n",
    "\n",
    "carro = {\n",
    "    \"marca\":\"Volkswagen\",\n",
    "    \"modelo\":\"Fox\",\n",
    "    \"motor\":1.6\n",
    "}\n",
    "print(\"########################################\")\n",
    "print(carro)"
   ]
  },
  {
   "cell_type": "code",
   "execution_count": 68,
   "metadata": {},
   "outputs": [
    {
     "name": "stdout",
     "output_type": "stream",
     "text": [
      "[{'marca': 'Volkswagen', 'modelo': 'Fox', 'motor': 1.6}, {'marca': 'Volkswagen', 'modelo': 'Golf', 'motor': 1.4}, {'marca': 'Honda', 'modelo': 'Civic', 'motor': 2.0}]\n",
      "###########################################\n",
      "{'marca': 'Volkswagen', 'modelo': 'Fox', 'motor': 1.6}\n",
      "{'marca': 'Volkswagen', 'modelo': 'Golf', 'motor': 1.4}\n",
      "{'marca': 'Honda', 'modelo': 'Civic', 'motor': 2.0}\n",
      "###########################################\n",
      "marca => Volkswagen\n",
      "modelo => Fox\n",
      "motor => 1.6\n",
      "\n",
      "marca => Volkswagen\n",
      "modelo => Golf\n",
      "motor => 1.4\n",
      "\n",
      "marca => Honda\n",
      "modelo => Civic\n",
      "motor => 2.0\n",
      "\n"
     ]
    }
   ],
   "source": [
    "# Podemos mesclar os tipos e ter uma lista de dicionarios\n",
    "carros = [\n",
    "    {\n",
    "        \"marca\":\"Volkswagen\",\n",
    "        \"modelo\":\"Fox\",\n",
    "        \"motor\":1.6\n",
    "       },\n",
    "    {\n",
    "        \"marca\":\"Volkswagen\",\n",
    "        \"modelo\":\"Golf\",\n",
    "        \"motor\":1.4\n",
    "       },        \n",
    "    {\n",
    "        \"marca\":\"Honda\",\n",
    "        \"modelo\":\"Civic\",\n",
    "        \"motor\":2.0\n",
    "    }\n",
    "]\n",
    "print(carros)\n",
    "print(\"###########################################\")\n",
    "for carro in carros:\n",
    "    print(carro)\n",
    "\n",
    "print(\"###########################################\")\n",
    "for carro in carros:\n",
    "    for chave, valor in carro.items():# essa é a forma de acessar um dicionário via estrutura de repetição\n",
    "        print(chave, \"=>\", valor)\n",
    "    print()\n"
   ]
  },
  {
   "cell_type": "markdown",
   "metadata": {},
   "source": [
    "## Dataframes"
   ]
  },
  {
   "cell_type": "code",
   "execution_count": 69,
   "metadata": {},
   "outputs": [
    {
     "name": "stdout",
     "output_type": "stream",
     "text": [
      "          A         B         C         D\n",
      "0 -0.884228  0.713399 -0.913720 -1.045876\n",
      "1  0.860238 -0.589144  0.859422  0.558995\n",
      "2 -0.735725 -1.130621 -0.642231 -0.627450\n",
      "3 -0.119986  1.047083  1.095238  1.590047\n",
      "#########################\n",
      "Imprimindo os nomes das colunas\n",
      "Index(['A', 'B', 'C', 'D'], dtype='object')\n",
      "#########################\n",
      "Imprimindo a Coluna A\n",
      "0   -0.884228\n",
      "1    0.860238\n",
      "2   -0.735725\n",
      "3   -0.119986\n",
      "Name: A, dtype: float64\n",
      "0   -0.884228\n",
      "1    0.860238\n",
      "2   -0.735725\n",
      "3   -0.119986\n",
      "Name: A, dtype: float64\n",
      "#########################\n",
      "Imprimindo um resumo do df\n",
      "              A         B         C         D\n",
      "count  4.000000  4.000000  4.000000  4.000000\n",
      "mean  -0.219925  0.010179  0.099678  0.118929\n",
      "std    0.792483  1.037674  1.024005  1.193273\n",
      "min   -0.884228 -1.130621 -0.913720 -1.045876\n",
      "25%   -0.772850 -0.724513 -0.710103 -0.732056\n",
      "50%   -0.427855  0.062128  0.108596 -0.034227\n",
      "75%    0.125070  0.796820  0.918376  0.816758\n",
      "max    0.860238  1.047083  1.095238  1.590047\n",
      "#########################\n",
      "Imprimindo as 2 primeiras linhas\n",
      "          A         B         C         D\n",
      "0 -0.884228  0.713399 -0.913720 -1.045876\n",
      "1  0.860238 -0.589144  0.859422  0.558995\n",
      "#########################\n",
      "Apenas valores maiores que zero\n",
      "          A         B         C         D\n",
      "0       NaN  0.713399       NaN       NaN\n",
      "1  0.860238       NaN  0.859422  0.558995\n",
      "2       NaN       NaN       NaN       NaN\n",
      "3       NaN  1.047083  1.095238  1.590047\n"
     ]
    }
   ],
   "source": [
    "import numpy as np\n",
    "import pandas as pd\n",
    "df = pd.DataFrame(np.random.randn(4,4), columns=list('ABCD'))\n",
    "print(df)\n",
    "print(\"#########################\")\n",
    "print(\"Imprimindo os nomes das colunas\")\n",
    "print(df.columns)\n",
    "print(\"#########################\")\n",
    "print(\"Imprimindo a Coluna A\")\n",
    "print(df['A'])\n",
    "print(df.A)\n",
    "print(\"#########################\")\n",
    "print(\"Imprimindo um resumo do df\")\n",
    "print(df.describe())\n",
    "print(\"#########################\")\n",
    "print(\"Imprimindo as 2 primeiras linhas\")\n",
    "print(df[:2])\n",
    "print(\"#########################\")\n",
    "print(\"Apenas valores maiores que zero\")\n",
    "print(df[df > 0])"
   ]
  },
  {
   "cell_type": "markdown",
   "metadata": {},
   "source": [
    "## Arquivos"
   ]
  },
  {
   "cell_type": "code",
   "execution_count": 70,
   "metadata": {},
   "outputs": [
    {
     "name": "stdout",
     "output_type": "stream",
     "text": [
      "Dado1, Dado2, Dado3\n",
      "\n",
      "Dado1, Dado2, Dado3\n",
      "\n"
     ]
    }
   ],
   "source": [
    "\n",
    "# 'r' \tAbre arquivo no modo leitura\n",
    "# 'w' \tAbre arquivo no modo escrita. Cria um novo arquivo se não existir. Se existir, trunca o arquivo existente\n",
    "# 'x' \tCria um novo arquivo. Se já existir, retorna falha.\n",
    "# 'a' \tAbre arquivo no modo adicionar. Se não existir, cria um novo.\n",
    "# 't' \tAbre o arquivo em modo texto, é a opção default.\n",
    "# 'b' \tAbre o arquivo em modo binário.\n",
    "# '+' \tAbre o arquivo para leitura e escrita.\n",
    "\n",
    "arquivo = open(\"exemplo01.txt\", \"w+\")\n",
    "for i in range(2):\n",
    "    arquivo.write(\"Dado1, Dado2, Dado3\\n\")\n",
    "arquivo.close()\n",
    "\n",
    "arquivo = open(\"exemplo01.txt\", \"r\")\n",
    "for linha in arquivo.readlines():\n",
    "    print (linha)\n",
    "arquivo.close()\n"
   ]
  },
  {
   "cell_type": "code",
   "execution_count": 71,
   "metadata": {},
   "outputs": [
    {
     "name": "stdout",
     "output_type": "stream",
     "text": [
      "Bacteria,Penicillin,Streptomycin,Neomycin,Gram\n",
      "\n",
      "Mycobacterium tuberculosis,800,5,2,negative\n",
      "\n",
      "Salmonella schottmuelleri,10,0.8,0.09,negative\n",
      "\n",
      "Proteus vulgaris,3,0.1,0.1,negative\n",
      "\n",
      "Bacteria,Penicillin,Streptomycin,Neomycin,Gram\n",
      "\n",
      "Mycobacterium tuberculosis,800,5,2,negative\n",
      "\n",
      "Salmonella schottmuelleri,10,0.8,0.09,negative\n",
      "\n",
      "Proteus vulgaris,3,0.1,0.1,negative\n",
      "\n",
      "Brucella antracis,0.001,0.01,0.007,positive\n",
      "\n",
      "Streptococcus fecalis,1,1,0.1,positive\n",
      "\n",
      "Staphylococcus aureus,0.03,0.03,0.001,positive\n",
      "\n"
     ]
    }
   ],
   "source": [
    "# https://raw.githubusercontent.com/plotly/datasets/master/Antibiotics.csv\n",
    "\n",
    "def escreverArquivo(dados:list, nome_do_arquivo:str):\n",
    "    f = open(nome_do_arquivo, \"w+\")\n",
    "    for linha in dados:\n",
    "        f.write(linha)\n",
    "    f.close()\n",
    "\n",
    "def adicionarAoArquivo(dados:list, nome_do_arquivo:str):\n",
    "    f = open(nome_do_arquivo, \"a+\")\n",
    "    for linha in dados:\n",
    "        f.write(linha)\n",
    "    f.close()    \n",
    "\n",
    "def imprimirConteudoDoArquivo(nome_do_arquivo:str):\n",
    "    f = open(nome_do_arquivo, \"r\")\n",
    "    for linha in f.readlines():\n",
    "        print(linha)\n",
    "    f.close()\n",
    "\n",
    "dados = [\n",
    "    \"Bacteria,Penicillin,Streptomycin,Neomycin,Gram\\n\", \n",
    "    \"Mycobacterium tuberculosis,800,5,2,negative\\n\",\n",
    "    \"Salmonella schottmuelleri,10,0.8,0.09,negative\\n\",\n",
    "    \"Proteus vulgaris,3,0.1,0.1,negative\\n\"  \n",
    "]\n",
    "dados2 = [\n",
    "    \"Brucella antracis,0.001,0.01,0.007,positive\\n\",\n",
    "    \"Streptococcus fecalis,1,1,0.1,positive\\n\",\n",
    "    \"Staphylococcus aureus,0.03,0.03,0.001,positive\\n\"  \n",
    "]\n",
    "\n",
    "escreverArquivo(dados, \"arquivo.txt\")\n",
    "imprimirConteudoDoArquivo(\"arquivo.txt\")\n",
    "adicionarAoArquivo(dados2, \"arquivo.txt\")\n",
    "imprimirConteudoDoArquivo(\"arquivo.txt\")\n"
   ]
  },
  {
   "cell_type": "markdown",
   "metadata": {},
   "source": [
    "## Gráficos"
   ]
  },
  {
   "cell_type": "code",
   "execution_count": 72,
   "metadata": {},
   "outputs": [
    {
     "data": {
      "image/png": "[encoded data removed]",
      "text/plain": [
       "<Figure size 432x288 with 1 Axes>"
      ]
     },
     "metadata": {
      "needs_background": "light"
     },
     "output_type": "display_data"
    }
   ],
   "source": [
    "import matplotlib.pyplot as plt\n",
    "x = [1, 2, 3, 4, 5, 6]\n",
    "y = [2, 4, 8, 16, 32, 64]\n",
    "plt.plot(x,y)\n",
    "plt.ylabel('valores de y')\n",
    "plt.xlabel('valores de x')\n",
    "plt.show()"
   ]
  },
  {
   "cell_type": "code",
   "execution_count": 73,
   "metadata": {},
   "outputs": [
    {
     "data": {
      "image/png": "[encoded data removed]",
      "text/plain": [
       "<Figure size 432x288 with 1 Axes>"
      ]
     },
     "metadata": {
      "needs_background": "light"
     },
     "output_type": "display_data"
    }
   ],
   "source": [
    "import numpy as np\n",
    "\n",
    "n1 = [1, 2, 3, 4, 5, 6]\n",
    "n2 = [2, 4, 6, 8, 10, 12]\n",
    "\n",
    "plt.plot(n1, 'bs') # n1 = quadrados azuis\n",
    "plt.plot(n2, 'g^') # n2 = triângulos verdes\n",
    "plt.show()"
   ]
  }
 ],
 "metadata": {
  "kernelspec": {
   "display_name": "Python 3",
   "language": "python",
   "name": "python3"
  },
  "language_info": {
   "codemirror_mode": {
    "name": "ipython",
    "version": 3
   },
   "file_extension": ".py",
   "mimetype": "text/x-python",
   "name": "python",
   "nbconvert_exporter": "python",
   "pygments_lexer": "ipython3",
   "version": "3.8.9"
  }
 },
 "nbformat": 4,
 "nbformat_minor": 4
}
